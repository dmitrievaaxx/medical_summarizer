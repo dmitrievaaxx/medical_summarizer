{
 "cells": [
  {
   "cell_type": "markdown",
   "id": "8024da58-1dc7-4e8f-8338-818325b27147",
   "metadata": {
    "execution": {
     "iopub.execute_input": "2025-07-02T13:11:16.403064Z",
     "iopub.status.busy": "2025-07-02T13:11:16.402222Z",
     "iopub.status.idle": "2025-07-02T13:11:16.459855Z",
     "shell.execute_reply": "2025-07-02T13:11:16.459065Z",
     "shell.execute_reply.started": "2025-07-02T13:11:16.403037Z"
    }
   },
   "source": [
    "# Сервис для коспектирования медицинских статей по разделам: \"RESULTS\", \"CONCLUSIONS\", \"KEY TERMS\", \"REFERENCES\" "
   ]
  },
  {
   "cell_type": "code",
   "execution_count": 65,
   "id": "fbe8d15d-1552-49bb-af7d-f0b5d9524058",
   "metadata": {
    "execution": {
     "iopub.execute_input": "2025-07-02T17:09:12.753828Z",
     "iopub.status.busy": "2025-07-02T17:09:12.752826Z",
     "iopub.status.idle": "2025-07-02T17:09:12.764252Z",
     "shell.execute_reply": "2025-07-02T17:09:12.763454Z",
     "shell.execute_reply.started": "2025-07-02T17:09:12.753788Z"
    },
    "tags": []
   },
   "outputs": [],
   "source": [
    "import warnings\n",
    "warnings.filterwarnings(\"ignore\", category=UserWarning, module=\"spacy.util\")\n",
    "warnings.filterwarnings(\n",
    "    action=\"ignore\",\n",
    "    message=r\"Upper case characters found in vocabulary while 'lowercase' is True\",\n",
    "    category=UserWarning,\n",
    "    module=r\"sklearn\\.feature_extraction\\.text\"\n",
    ")"
   ]
  },
  {
   "cell_type": "code",
   "execution_count": 48,
   "id": "daa20a92-86d8-49cd-b656-9b355ad550be",
   "metadata": {
    "execution": {
     "iopub.execute_input": "2025-07-02T17:04:06.910779Z",
     "iopub.status.busy": "2025-07-02T17:04:06.909698Z",
     "iopub.status.idle": "2025-07-02T17:04:06.927247Z",
     "shell.execute_reply": "2025-07-02T17:04:06.926477Z",
     "shell.execute_reply.started": "2025-07-02T17:04:06.910738Z"
    },
    "tags": []
   },
   "outputs": [],
   "source": [
    "import torch\n",
    "from transformers import LEDTokenizer, LEDForConditionalGeneration, AutoTokenizer, AutoModel\n",
    "from keybert import KeyBERT\n",
    "import spacy\n",
    "import gradio as gr\n",
    "from sklearn.cluster import AgglomerativeClustering\n",
    "import pandas as pd\n",
    "import os\n",
    "import re"
   ]
  },
  {
   "cell_type": "code",
   "execution_count": 49,
   "id": "91889955-f888-48fa-9482-31e7c483ef69",
   "metadata": {
    "execution": {
     "iopub.execute_input": "2025-07-02T17:04:07.493999Z",
     "iopub.status.busy": "2025-07-02T17:04:07.493018Z",
     "iopub.status.idle": "2025-07-02T17:04:07.560615Z",
     "shell.execute_reply": "2025-07-02T17:04:07.559866Z",
     "shell.execute_reply.started": "2025-07-02T17:04:07.493958Z"
    },
    "tags": []
   },
   "outputs": [
    {
     "name": "stdout",
     "output_type": "stream",
     "text": [
      "2.1.0+cu118\n"
     ]
    }
   ],
   "source": [
    "import torch\n",
    "print(torch.__version__)"
   ]
  },
  {
   "cell_type": "code",
   "execution_count": 50,
   "id": "ddd939a7-0376-499e-83c4-e04300f62947",
   "metadata": {
    "execution": {
     "iopub.execute_input": "2025-07-02T17:04:08.206818Z",
     "iopub.status.busy": "2025-07-02T17:04:08.205978Z",
     "iopub.status.idle": "2025-07-02T17:04:08.285032Z",
     "shell.execute_reply": "2025-07-02T17:04:08.284211Z",
     "shell.execute_reply.started": "2025-07-02T17:04:08.206789Z"
    },
    "tags": []
   },
   "outputs": [
    {
     "name": "stdout",
     "output_type": "stream",
     "text": [
      "4.54.0.dev0\n"
     ]
    }
   ],
   "source": [
    "import transformers\n",
    "print(transformers.__version__)"
   ]
  },
  {
   "cell_type": "code",
   "execution_count": 51,
   "id": "fe7b74b9-b0d1-4de0-b21c-f62a7ae6e24f",
   "metadata": {
    "execution": {
     "iopub.execute_input": "2025-07-02T17:04:08.789974Z",
     "iopub.status.busy": "2025-07-02T17:04:08.789077Z",
     "iopub.status.idle": "2025-07-02T17:04:08.806665Z",
     "shell.execute_reply": "2025-07-02T17:04:08.805802Z",
     "shell.execute_reply.started": "2025-07-02T17:04:08.789923Z"
    },
    "tags": []
   },
   "outputs": [],
   "source": [
    "def load_models():\n",
    "    device = \"cuda\"\n",
    "    pubmed_model = AutoModel.from_pretrained(\"microsoft/BiomedNLP-PubMedBERT-base-uncased-abstract\", use_safetensors=True).to(device)\n",
    "    \n",
    "    return {\n",
    "        \"led\": {\n",
    "            \"tokenizer\": LEDTokenizer.from_pretrained(\"./led_summarization\"),\n",
    "            \"model\": LEDForConditionalGeneration.from_pretrained(\"./led_summarization\", use_safetensors=True).to(device)\n",
    "        },\n",
    "        \"pubmed\": {\n",
    "            \"tokenizer\": AutoTokenizer.from_pretrained(\"microsoft/BiomedNLP-PubMedBERT-base-uncased-abstract\"),\n",
    "            \"model\": pubmed_model\n",
    "        },\n",
    "        \"keybert\": KeyBERT(model=pubmed_model),\n",
    "        \"spacy\": spacy.load(\"en_core_sci_sm\") \n",
    "    }"
   ]
  },
  {
   "cell_type": "code",
   "execution_count": 52,
   "id": "78b1d989-5d26-486b-a2af-ca39fb1d035e",
   "metadata": {
    "execution": {
     "iopub.execute_input": "2025-07-02T17:04:09.432412Z",
     "iopub.status.busy": "2025-07-02T17:04:09.431509Z",
     "iopub.status.idle": "2025-07-02T17:04:26.655350Z",
     "shell.execute_reply": "2025-07-02T17:04:26.654618Z",
     "shell.execute_reply.started": "2025-07-02T17:04:09.432382Z"
    },
    "tags": []
   },
   "outputs": [],
   "source": [
    "models = load_models()\n",
    "nlp = models[\"spacy\"]  \n",
    "kw_model = models[\"keybert\"]  \n",
    "pubmed_tokenizer = models[\"pubmed\"][\"tokenizer\"]  \n",
    "led_model = models[\"led\"][\"model\"]  \n",
    "led_tokenizer = models[\"led\"][\"tokenizer\"]"
   ]
  },
  {
   "cell_type": "markdown",
   "id": "2f283faa-cd5e-4671-b90e-9dbd0b7e8de0",
   "metadata": {},
   "source": [
    "Генерация и форматирование (format_medical_summary) разделов: \"RESULTS\", \"CONCLUSIONS\""
   ]
  },
  {
   "cell_type": "code",
   "execution_count": 53,
   "id": "646e780e-473c-4ece-9fcf-8c1ff6d30389",
   "metadata": {
    "execution": {
     "iopub.execute_input": "2025-07-02T17:04:29.655120Z",
     "iopub.status.busy": "2025-07-02T17:04:29.653998Z",
     "iopub.status.idle": "2025-07-02T17:04:29.672208Z",
     "shell.execute_reply": "2025-07-02T17:04:29.671358Z",
     "shell.execute_reply.started": "2025-07-02T17:04:29.655071Z"
    },
    "tags": []
   },
   "outputs": [],
   "source": [
    "def generate_summary(medical_text):\n",
    "    device = \"cuda\" if torch.cuda.is_available() else \"cpu\"\n",
    "    \n",
    "    inputs = led_tokenizer(\n",
    "        medical_text,\n",
    "        max_length=4096,\n",
    "        padding=\"max_length\",\n",
    "        truncation=True,\n",
    "        return_tensors=\"pt\"\n",
    "    ).to(device)\n",
    "    \n",
    "    with torch.no_grad():\n",
    "        outputs = led_model.generate(\n",
    "            input_ids=inputs[\"input_ids\"],\n",
    "            max_length=256,\n",
    "            num_beams=4,\n",
    "            early_stopping=True,\n",
    "            length_penalty=1.2,\n",
    "            no_repeat_ngram_size=3,\n",
    "            repetition_penalty=1.5\n",
    "        )\n",
    "        generated_summary = led_tokenizer.decode(outputs[0], skip_special_tokens=False)\n",
    "    \n",
    "    return format_medical_summary(generated_summary)"
   ]
  },
  {
   "cell_type": "code",
   "execution_count": 54,
   "id": "f72da4aa-d9ed-4679-bd81-86e2c414d09b",
   "metadata": {
    "execution": {
     "iopub.execute_input": "2025-07-02T17:04:30.317731Z",
     "iopub.status.busy": "2025-07-02T17:04:30.316609Z",
     "iopub.status.idle": "2025-07-02T17:04:30.337556Z",
     "shell.execute_reply": "2025-07-02T17:04:30.336700Z",
     "shell.execute_reply.started": "2025-07-02T17:04:30.317693Z"
    },
    "tags": []
   },
   "outputs": [],
   "source": [
    "def format_medical_summary(generated_text):\n",
    "    clean_text = generated_text.replace('</s>', '').replace('<s>', '').strip()\n",
    "    results_section = ''\n",
    "    conclusions_section = ''\n",
    "    \n",
    "    if '<results>' in clean_text:\n",
    "        results_part = clean_text.split('<results>')[1]\n",
    "        results_section = results_part.split('<conclusions>')[0].strip()\n",
    "    \n",
    "    if '<conclusions>' in clean_text:\n",
    "        conclusions_part = clean_text.split('<conclusions>')[1]\n",
    "        conclusions_section = conclusions_part.split('<dig>')[0].strip()\n",
    "    \n",
    "    formatted_output = \"\"\n",
    "    if results_section:\n",
    "        results_section = results_section[0].upper() + results_section[1:]\n",
    "        formatted_output += \"RESULTS:\\n\" + results_section + \"\\n\\n\"\n",
    "    \n",
    "    if conclusions_section:\n",
    "        conclusions_section = conclusions_section[0].upper() + conclusions_section[1:]\n",
    "        formatted_output += \"CONCLUSIONS:\\n\" + conclusions_section\n",
    "    \n",
    "    return formatted_output.strip()"
   ]
  },
  {
   "cell_type": "markdown",
   "id": "9c8b972b-aa6f-4db3-ad45-c83dfa7095fe",
   "metadata": {},
   "source": [
    "Разбиение длинного текста на меньшие фрагменты для обработки моделями (PubMedBERT, en_core_sci_sm) с ограничением на длину входа"
   ]
  },
  {
   "cell_type": "code",
   "execution_count": 55,
   "id": "5dda9a7b-2e0b-461a-85d1-2bbb8536ad86",
   "metadata": {
    "execution": {
     "iopub.execute_input": "2025-07-02T17:04:31.987111Z",
     "iopub.status.busy": "2025-07-02T17:04:31.986140Z",
     "iopub.status.idle": "2025-07-02T17:04:32.012836Z",
     "shell.execute_reply": "2025-07-02T17:04:32.011976Z",
     "shell.execute_reply.started": "2025-07-02T17:04:31.987082Z"
    },
    "tags": []
   },
   "outputs": [],
   "source": [
    "def chunk_text(text, max_tokens=512, stride=128):\n",
    "    sentences = [sent.text for sent in nlp(text).sents]\n",
    "    current_chunk = []\n",
    "    current_length = 0\n",
    "    chunks = []\n",
    "    \n",
    "    for sentence in sentences:\n",
    "        sent_tokens = pubmed_tokenizer.tokenize(sentence)\n",
    "        if current_length + len(sent_tokens) > max_tokens:\n",
    "            chunks.append(\" \".join(current_chunk))\n",
    "            current_chunk = current_chunk[-stride//2:]  \n",
    "            current_length = len(current_chunk)\n",
    "        current_chunk.append(sentence)\n",
    "        current_length += len(sent_tokens)\n",
    "    \n",
    "    if current_chunk:\n",
    "        chunks.append(\" \".join(current_chunk))\n",
    "    return chunks"
   ]
  },
  {
   "cell_type": "markdown",
   "id": "5e3e50ec-72b2-4f45-9395-28d5a902ee59",
   "metadata": {},
   "source": [
    "Извлечение потенциальных ключевых фраз:\n",
    "- Именные группы (1-5 слов)\n",
    "- Пары \"Прилагательное/Существительное + Существительное\"\n",
    "- Аббревиатуры (2-6 заглавных букв)"
   ]
  },
  {
   "cell_type": "code",
   "execution_count": 56,
   "id": "80d690e4-78fd-41ec-bf8f-7125e811b40e",
   "metadata": {
    "execution": {
     "iopub.execute_input": "2025-07-02T17:04:33.241765Z",
     "iopub.status.busy": "2025-07-02T17:04:33.240891Z",
     "iopub.status.idle": "2025-07-02T17:04:33.281307Z",
     "shell.execute_reply": "2025-07-02T17:04:33.280549Z",
     "shell.execute_reply.started": "2025-07-02T17:04:33.241729Z"
    },
    "tags": []
   },
   "outputs": [],
   "source": [
    "def extract_candidates(text):\n",
    "    doc = nlp(text)\n",
    "    noun_chunks = {        \n",
    "        \" \".join(tok.text for tok in chunk).lower()\n",
    "        for chunk in doc.noun_chunks if 1 <= len(chunk) <= 5\n",
    "    }\n",
    "    extras = {\n",
    "        f\"{doc[i].text} {doc[i+1].text}\".lower()\n",
    "        for i in range(len(doc)-1)\n",
    "        if doc[i].pos_ in {\"ADJ\",\"NOUN\"} and doc[i+1].pos_==\"NOUN\"\n",
    "    }\n",
    "    abbrs = {t.text for t in doc if t.is_upper and 2<=len(t.text)<=6}\n",
    "    return list(noun_chunks | extras | abbrs)"
   ]
  },
  {
   "cell_type": "markdown",
   "id": "a0d7b867-0151-4ef7-8ab7-8e2d07655e2a",
   "metadata": {},
   "source": [
    "Получение кандидатов через extract_candidates() + извлечение фраз длиной 2-5 слов, применение MMR (Maximal Marginal Relevance) для разнообразия"
   ]
  },
  {
   "cell_type": "code",
   "execution_count": 57,
   "id": "bf456121-6ede-43c8-abab-68accde892c3",
   "metadata": {
    "execution": {
     "iopub.execute_input": "2025-07-02T17:04:34.348816Z",
     "iopub.status.busy": "2025-07-02T17:04:34.347754Z",
     "iopub.status.idle": "2025-07-02T17:04:34.387168Z",
     "shell.execute_reply": "2025-07-02T17:04:34.386428Z",
     "shell.execute_reply.started": "2025-07-02T17:04:34.348769Z"
    },
    "tags": []
   },
   "outputs": [],
   "source": [
    "def extract_keyphrases(text, top_n=30):\n",
    "    kw = kw_model.extract_keywords(\n",
    "        text,\n",
    "        candidates=extract_candidates(text),\n",
    "        keyphrase_ngram_range=(2,5), \n",
    "        nr_candidates=80,          \n",
    "        use_mmr=True, diversity=0.85, top_n=top_n*2\n",
    "    )\n",
    "    return kw[:top_n]"
   ]
  },
  {
   "cell_type": "markdown",
   "id": "65a91e0a-7e3e-4219-91ab-868086777103",
   "metadata": {},
   "source": [
    "Группировка семантически схожих ключевых фразы с помощью агломеративной кластеризации с косинусной метрикой. Для каждого кластера выбирается фраза с наивысшим score"
   ]
  },
  {
   "cell_type": "code",
   "execution_count": 58,
   "id": "731a1280-69cb-4b70-a7d9-c448be350c9d",
   "metadata": {
    "execution": {
     "iopub.execute_input": "2025-07-02T17:04:38.772707Z",
     "iopub.status.busy": "2025-07-02T17:04:38.771747Z",
     "iopub.status.idle": "2025-07-02T17:04:38.826030Z",
     "shell.execute_reply": "2025-07-02T17:04:38.825207Z",
     "shell.execute_reply.started": "2025-07-02T17:04:38.772669Z"
    },
    "tags": []
   },
   "outputs": [],
   "source": [
    "def group_similar(keywords, thresh=0.85):\n",
    "    phrases = [p for p,_ in keywords]\n",
    "    emb = kw_model.model.embed(phrases)  \n",
    "    labels = AgglomerativeClustering(n_clusters=None,\n",
    "                                     distance_threshold=1-thresh,\n",
    "                                     affinity=\"cosine\",\n",
    "                                     linkage=\"average\").fit_predict(emb)\n",
    "    best = {}\n",
    "    for (ph,sc),lb in zip(keywords,labels):\n",
    "        if lb not in best or sc>best[lb][1]:\n",
    "            best[lb]=(ph,sc)\n",
    "    return sorted(best.values(), key=lambda x:x[1], reverse=True)"
   ]
  },
  {
   "cell_type": "code",
   "execution_count": 59,
   "id": "b19ae9fd-a975-49c3-9fb1-868df3e311c8",
   "metadata": {
    "execution": {
     "iopub.execute_input": "2025-07-02T17:04:40.414350Z",
     "iopub.status.busy": "2025-07-02T17:04:40.413394Z",
     "iopub.status.idle": "2025-07-02T17:04:40.436530Z",
     "shell.execute_reply": "2025-07-02T17:04:40.435760Z",
     "shell.execute_reply.started": "2025-07-02T17:04:40.414317Z"
    },
    "tags": []
   },
   "outputs": [],
   "source": [
    "def extract_keyphrases_from_long_text(text):\n",
    "    chunks = chunk_text(text)\n",
    "    all_keywords = []\n",
    "    for chunk in chunks:\n",
    "        keywords = extract_keyphrases(chunk)\n",
    "        all_keywords.extend(keywords)\n",
    "\n",
    "    unique_keywords = {}\n",
    "    for phrase, score in all_keywords:\n",
    "        if phrase not in unique_keywords or score > unique_keywords[phrase]:\n",
    "            unique_keywords[phrase] = score\n",
    "\n",
    "    sorted_keywords = sorted(unique_keywords.items(), key=lambda x: x[1], reverse=True)\n",
    "    return sorted_keywords[:30]"
   ]
  },
  {
   "cell_type": "code",
   "execution_count": 60,
   "id": "168e51ad-00be-498b-9177-5167cb9b0be1",
   "metadata": {
    "execution": {
     "iopub.execute_input": "2025-07-02T17:04:41.282351Z",
     "iopub.status.busy": "2025-07-02T17:04:41.281404Z",
     "iopub.status.idle": "2025-07-02T17:04:41.299391Z",
     "shell.execute_reply": "2025-07-02T17:04:41.298692Z",
     "shell.execute_reply.started": "2025-07-02T17:04:41.282314Z"
    },
    "tags": []
   },
   "outputs": [],
   "source": [
    "def format_keyterms_output(keywords):\n",
    "    output = \"KEY TERMS:\\n\"\n",
    "    key_phrases = [f\"- {phrase}\" for phrase, score in keywords]\n",
    "    output += \"\\n\".join(key_phrases)\n",
    "    return output"
   ]
  },
  {
   "cell_type": "markdown",
   "id": "18d3e4cb-8347-4a96-ba5a-b0f62f8727a3",
   "metadata": {},
   "source": [
    "Функция extract_references извлекает из текста следующие типы ссылок и идентификаторов:\n",
    "- Веб-адреса - распознаёт стандартные интернет-ссылки, включая URL с протоколами http/https (например, https://site.com, http://example.org) и адреса с префиксом www (www.research.edu)\n",
    "- Научные публикации - находит идентификаторы научных работ: препринты arXiv в формате arxiv:1710.05006, цифровые идентификаторы DOI (как с префиксом doi:10.1016/j.cell.2021.01.001, так и без него 10.1001/jama.2020.1245)\n",
    "- Медицинские базы данных - выявляет специализированные медицинские идентификаторы: PubMed ID (PMID: 12345678), PubMed Central ID (PMCID: PMC9876543), а также номера клинических испытаний в формате NCT01234567\n",
    "- Библиографические данные - распознаёт международные стандартные номера книг ISBN в различных форматах записи, включая ISBN-13 (ISBN 978-3-16-148410-0, ISBN-13: 978-1234567890)\n",
    "- Контактная информация - обнаруживает электронные адреса (author@university.edu)"
   ]
  },
  {
   "cell_type": "code",
   "execution_count": 61,
   "id": "0135760f-ff27-46d2-87c0-d3d8edf4bf25",
   "metadata": {
    "execution": {
     "iopub.execute_input": "2025-07-02T17:04:43.048064Z",
     "iopub.status.busy": "2025-07-02T17:04:43.047089Z",
     "iopub.status.idle": "2025-07-02T17:04:43.071939Z",
     "shell.execute_reply": "2025-07-02T17:04:43.071242Z",
     "shell.execute_reply.started": "2025-07-02T17:04:43.048035Z"
    },
    "tags": []
   },
   "outputs": [],
   "source": [
    "def extract_references(text):\n",
    "    patterns = [\n",
    "        r'(https?://[^\\s<>\"]+|www\\.[^\\s<>\"]+)',                                # URL\n",
    "        r'(arxiv:\\d{4}\\.\\d{4,5})',                                             # arXiv\n",
    "        r'doi:\\s*10\\.\\d{4,9}/[-._;()/:A-Za-z0-9]+',                            # DOI с префиксом\n",
    "        r'10\\.\\d{4,9}/[-._;()/:A-Za-z0-9]+',                                   # DOI без префикса\n",
    "        r'PMID:\\s*\\d+',                                                        # PMID\n",
    "        r'PMCID:\\s*PMC\\d+',                                                    # PMCID\n",
    "        r'NCT\\d{8}',                                                           # ClinicalTrials.gov\n",
    "        r'ISBN(?:-13)?:?\\s*(?:97[89][- ]?)?\\d{1,5}[- ]?\\d+[- ]?\\d+[- ]?[\\dX]', # ISBN\n",
    "        r'[a-zA-Z0-9._%+-]+@[a-zA-Z0-9.-]+\\.[a-zA-Z]{2,}',                     # Email\n",
    "    ]\n",
    "    results = []\n",
    "    for pattern in patterns:\n",
    "        results.extend(re.findall(pattern, text, re.IGNORECASE))\n",
    "    return results"
   ]
  },
  {
   "cell_type": "code",
   "execution_count": 62,
   "id": "d53872b0-f412-45ed-b6c4-4f27c31b86d5",
   "metadata": {
    "execution": {
     "iopub.execute_input": "2025-07-02T17:04:43.859102Z",
     "iopub.status.busy": "2025-07-02T17:04:43.858128Z",
     "iopub.status.idle": "2025-07-02T17:04:43.868898Z",
     "shell.execute_reply": "2025-07-02T17:04:43.868202Z",
     "shell.execute_reply.started": "2025-07-02T17:04:43.859068Z"
    },
    "tags": []
   },
   "outputs": [],
   "source": [
    "def format_references_output(references):\n",
    "    output = \"REFERENCES:\\n\"\n",
    "    references = [f\"- {ref}\" for ref in references]\n",
    "    output += \"\\n\".join(references)\n",
    "    return output"
   ]
  },
  {
   "cell_type": "code",
   "execution_count": 63,
   "id": "64716bed-c764-477b-87b2-b73411b54c0a",
   "metadata": {
    "execution": {
     "iopub.execute_input": "2025-07-02T17:04:44.635844Z",
     "iopub.status.busy": "2025-07-02T17:04:44.634618Z",
     "iopub.status.idle": "2025-07-02T17:04:44.648618Z",
     "shell.execute_reply": "2025-07-02T17:04:44.647950Z",
     "shell.execute_reply.started": "2025-07-02T17:04:44.635785Z"
    },
    "tags": []
   },
   "outputs": [],
   "source": [
    "def gradio_summarize(medical_text):\n",
    "    if len(medical_text) < 3000:\n",
    "        return \"Пожалуйста, введите медицинский текст для не менее 3000 символов\"\n",
    "    summary = generate_summary(medical_text)\n",
    "    keywords = extract_keyphrases_from_long_text(medical_text)\n",
    "    formatted_output = format_keyterms_output(keywords)\n",
    "    references = extract_references(medical_text)\n",
    "    if len(references) != 0:\n",
    "        return summary + '\\n\\n' + formatted_output + '\\n\\n' + format_references_output(references)\n",
    "    \n",
    "    return summary + '\\n\\n' + formatted_output"
   ]
  },
  {
   "cell_type": "code",
   "execution_count": 66,
   "id": "10f3e45a-3753-4043-a721-ff624f630c25",
   "metadata": {
    "execution": {
     "iopub.execute_input": "2025-07-02T17:09:16.808509Z",
     "iopub.status.busy": "2025-07-02T17:09:16.807685Z",
     "iopub.status.idle": "2025-07-02T17:09:21.148156Z",
     "shell.execute_reply": "2025-07-02T17:09:21.147297Z",
     "shell.execute_reply.started": "2025-07-02T17:09:16.808480Z"
    },
    "tags": []
   },
   "outputs": [
    {
     "name": "stdout",
     "output_type": "stream",
     "text": [
      "Running on local URL:  http://127.0.0.1:7864\n",
      "IMPORTANT: You are using gradio version 3.41.2, however version 4.44.1 is available, please upgrade.\n",
      "--------\n",
      "Running on public URL: https://b7292743ad5946fa38.gradio.live\n",
      "\n",
      "This share link expires in 72 hours. For free permanent hosting and GPU upgrades, run `gradio deploy` from Terminal to deploy to Spaces (https://huggingface.co/spaces)\n"
     ]
    },
    {
     "data": {
      "text/html": [
       "<div><iframe src=\"https://b7292743ad5946fa38.gradio.live\" width=\"100%\" height=\"500\" allow=\"autoplay; camera; microphone; clipboard-read; clipboard-write;\" frameborder=\"0\" allowfullscreen></iframe></div>"
      ],
      "text/plain": [
       "<ml_kernel._vendor.IPython.core.display.HTML object>"
      ]
     },
     "metadata": {},
     "output_type": "display_data"
    },
    {
     "data": {
      "text/plain": []
     },
     "execution_count": 66,
     "metadata": {},
     "output_type": "execute_result"
    }
   ],
   "source": [
    "with gr.Blocks() as demo:\n",
    "    gr.Markdown(\"# Автоматическое резюмирование медицинских публикаций: извлечение результатов, выводов, ключевых терминов, используемой литературы\")\n",
    "    gr.Markdown(\"Введите медицинский текст на английском языке (не менее чем 3000 символов). Модель сгенерирует краткий конспект по разделам.\")\n",
    "\n",
    "    input_text = gr.Textbox(\n",
    "        lines=15,\n",
    "        placeholder=\"Введите медицинский текст на английском языке...\",\n",
    "        label=\"Входной текст\",\n",
    "        elem_id=\"input-textbox\"\n",
    "    )\n",
    "\n",
    "    output_text = gr.Textbox(\n",
    "        lines=10,\n",
    "        label=\"Конспет\",\n",
    "        interactive=False,\n",
    "        elem_id=\"output-textbox\"\n",
    "    )\n",
    "\n",
    "    summarize_btn = gr.Button(\"Сгенерировать конспект\")\n",
    "\n",
    "    summarize_btn.click(fn=gradio_summarize, inputs=input_text, outputs=output_text)\n",
    "\n",
    "demo.launch(share=True)"
   ]
  }
 ],
 "metadata": {
  "kernelspec": {
   "display_name": "DataSphere Kernel",
   "language": "python",
   "name": "python3"
  },
  "language_info": {
   "codemirror_mode": {
    "name": "ipython",
    "version": 3
   },
   "file_extension": ".py",
   "mimetype": "text/x-python",
   "name": "python",
   "nbconvert_exporter": "python",
   "pygments_lexer": "ipython3",
   "version": "3.10.12"
  }
 },
 "nbformat": 4,
 "nbformat_minor": 5
}
